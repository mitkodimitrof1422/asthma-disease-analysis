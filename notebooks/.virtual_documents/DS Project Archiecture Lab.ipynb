import pandas as pd
import matplotlib.pyplot as plt
import numpy as np
import seaborn as sns
from sklearn.preprocessing import StandardScaler











# Notes: I created the "notebooks", "src" and "tests" folders and have updated them to github: https://github.com/mitkodimitrof1422/asthma-disease-analysis.git





asthma_table = pd.read_csv("../data/asthma_disease_data.csv")

asthma_table.info()

asthma_table.isnull().sum() # To show how many empties there are:



print(f"There are {asthma_table.duplicated().sum()} duplicate rows.") # To check how many duplicate rows there are





# Converting categorical columns into "category" data type. Checked the dataset's description to be sure that each of the below columns are indeed categories - https://www.kaggle.com/datasets/rabieelkharoua/asthma-disease-dataset

categorical_cols = ["Gender", "Ethnicity", "EducationLevel", "Smoking", "PetAllergy", "FamilyHistoryAsthma", "HistoryOfAllergies", "Eczema", "HayFever", "GastroesophagealReflux", "Wheezing", "ShortnessOfBreath", "ChestTightness", "Coughing", "NighttimeSymptoms", "ExerciseInduced", "Diagnosis"]

for col in categorical_cols:
    asthma_table[col] = asthma_table[col].astype("category")



asthma_table.info()





# Histogram for PhysicalActivity
sns.histplot(asthma_table['PhysicalActivity'], kde=True)
plt.show()

# Histogram for BMI
sns.histplot(asthma_table['BMI'], kde=True)
plt.show()

sns.countplot(x='Gender', data=asthma_table)
plt.show()

sns.histplot(data=asthma_table, x='Age')
plt.show()


corr = asthma_table[['Age','BMI','PhysicalActivity']].corr()
sns.heatmap(corr, annot=True)
plt.show()

"""
Age vs BMI = 0.016: This is an extremely weak positive correlation (basically no linear relationship).
Age vs PhysicalActivity = 0.000053: Bascially no correlation
BMI vs PhysicalActivity = -0.012: Also very weak negative correlation, so no correlation
"""






# Encoding the category columns. That way they become True/False, so easily readable.
asthma_table_encoded = pd.get_dummies(asthma_table, columns=categorical_cols, drop_first=True)
asthma_table_encoded


asthma_table_encoded.info()





def remove_duplicates(df: pd.DataFrame) -> pd.DataFrame:
    """Remove duplicate rows from the DataFrame."""
    return df.drop_duplicates()

def fill_missing_values(df: pd.DataFrame, categorical_cols: list, numeric_cols: list) -> pd.DataFrame:
    """Fill missing values for categorical and numeric columns."""
    for col in categorical_cols:
        if col in df.columns:
            # Assign the filled column back instead of using inplace
            df[col] = df[col].fillna(df[col].mode()[0])
    for col in numeric_cols:
        if col in df.columns:
            df[col] = df[col].fillna(df[col].median())
    return df

def convert_categorical(df: pd.DataFrame, categorical_cols: list) -> pd.DataFrame:
    """Convert specified columns to categorical dtype."""
    for col in categorical_cols:
        if col in df.columns:
            df[col] = df[col].astype('category')
    return df

def encode_categorical(df: pd.DataFrame, categorical_cols: list, drop_first: bool = True) -> pd.DataFrame:
    """One-hot encode categorical columns."""
    existing_cols = [col for col in categorical_cols if col in df.columns]
    return pd.get_dummies(df, columns=existing_cols, drop_first=drop_first)

def scale_numeric(df: pd.DataFrame, numeric_cols: list) -> pd.DataFrame:
    """Standardize numeric columns."""
    existing_cols = [col for col in numeric_cols if col in df.columns]
    scaler = StandardScaler()
    df[existing_cols] = scaler.fit_transform(df[existing_cols])
    return df

def prepare_asthma_data(df: pd.DataFrame, categorical_cols: list, numeric_cols: list, scale: bool = True) -> pd.DataFrame:
    """Full preprocessing pipeline for asthma dataset."""
    df = remove_duplicates(df)
    df = fill_missing_values(df, categorical_cols, numeric_cols)
    df = convert_categorical(df, categorical_cols)
    df = encode_categorical(df, categorical_cols)
    if scale:
        df = scale_numeric(df, numeric_cols)
    return df



# Listing the numeric columns so we can clean them:

numeric_cols = ['Age', 'BMI', 'PhysicalActivity', 'DietQuality', 'SleepQuality', 'PollutionExposure', 'PollenExposure', 'DustExposure', 'LungFunctionFEV1' , 'LungFunctionFVC']


# Applying the functions:

asthma_table_clean = prepare_asthma_data(asthma_table, categorical_cols, numeric_cols)


asthma_table_clean
























